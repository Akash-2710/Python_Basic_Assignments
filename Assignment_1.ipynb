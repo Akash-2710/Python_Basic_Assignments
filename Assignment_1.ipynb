{
 "cells": [
  {
   "cell_type": "raw",
   "id": "3d5aa9a7",
   "metadata": {},
   "source": [
    " 1. In the below elements which of them are values or an expression? eg:- values can be integer or string and expressions will be mathematical operators.\n",
    "\n",
    "* \n",
    "'hello'\n",
    "-87.8\n",
    "- \n",
    "/ \n",
    "+\n",
    "6 "
   ]
  },
  {
   "cell_type": "raw",
   "id": "c141c245",
   "metadata": {},
   "source": [
    "Ans. 'hello'    -87.8    6    are values.\n",
    "     -  /   +    *   are expressions.   "
   ]
  },
  {
   "cell_type": "raw",
   "id": "0b8ee57e",
   "metadata": {},
   "source": [
    "2. What is the difference between string and variable?"
   ]
  },
  {
   "cell_type": "raw",
   "id": "b0159f90",
   "metadata": {},
   "source": [
    "Ans. String can be written in single quotes , double quotes and tripple quots.Example-'Akash',\"Akash\",\"\"\"Akash\"\"\".\n",
    "variable is used to store data that we can access by variable name.Example - a =\"Akash\", i = \"inueron\"."
   ]
  },
  {
   "cell_type": "raw",
   "id": "74b5fb82",
   "metadata": {},
   "source": [
    "3. Describe three different data types."
   ]
  },
  {
   "cell_type": "raw",
   "id": "31fb9a85",
   "metadata": {},
   "source": [
    "Ans. string  - String can be written in quotes.Ex-a = 'Akash'\n",
    "     boolean - It will give either true or false based on the logic.Ex-10>5 true.\n",
    "     integer  - Integer can only store numerical values.Ex-1,2."
   ]
  },
  {
   "cell_type": "raw",
   "id": "003205ce",
   "metadata": {},
   "source": [
    "4. What is an expression made up of? What do all expressions do?"
   ]
  },
  {
   "cell_type": "raw",
   "id": "a2b645f5",
   "metadata": {},
   "source": [
    "Ans.Epressiond are containers they are made up of values of combinstions of operands.Ex- i =27+10 \n",
    "expression are used to specify information."
   ]
  },
  {
   "cell_type": "raw",
   "id": "619703ec",
   "metadata": {},
   "source": [
    "5. This assignment statements, like spam = 10. What is the difference between an expression and a statement?"
   ]
  },
  {
   "cell_type": "raw",
   "id": "0d2f60e6",
   "metadata": {},
   "source": [
    "Ans.Epressiond are containers they are made up of values of combinstions of operands and statement is a command that python interpreter executes."
   ]
  },
  {
   "cell_type": "raw",
   "id": "559e5e9f",
   "metadata": {},
   "source": [
    "6. After running the following code, what does the variable bacon contain?\n",
    "bacon = 22\n",
    "bacon + 1"
   ]
  },
  {
   "cell_type": "code",
   "execution_count": 21,
   "id": "38c62747",
   "metadata": {},
   "outputs": [
    {
     "data": {
      "text/plain": [
       "23"
      ]
     },
     "execution_count": 21,
     "metadata": {},
     "output_type": "execute_result"
    }
   ],
   "source": [
    "bacon = 22\n",
    "bacon + 1"
   ]
  },
  {
   "cell_type": "raw",
   "id": "5d98f18b",
   "metadata": {},
   "source": [
    "Ans. After running the following code the execution code will be 23."
   ]
  },
  {
   "cell_type": "raw",
   "id": "df8c593a",
   "metadata": {},
   "source": [
    "7. What should the values of the following two terms be?\n",
    "'spam' + 'spamspam'\n",
    "'spam' * 3"
   ]
  },
  {
   "cell_type": "code",
   "execution_count": 22,
   "id": "cf5d6ae4",
   "metadata": {},
   "outputs": [
    {
     "data": {
      "text/plain": [
       "'spamspamspam'"
      ]
     },
     "execution_count": 22,
     "metadata": {},
     "output_type": "execute_result"
    }
   ],
   "source": [
    "'spam' + 'spamspam'"
   ]
  },
  {
   "cell_type": "code",
   "execution_count": 23,
   "id": "31b7fec1",
   "metadata": {},
   "outputs": [
    {
     "data": {
      "text/plain": [
       "'spamspamspam'"
      ]
     },
     "execution_count": 23,
     "metadata": {},
     "output_type": "execute_result"
    }
   ],
   "source": [
    "'spam' * 3"
   ]
  },
  {
   "cell_type": "raw",
   "id": "b2a94ca9",
   "metadata": {},
   "source": [
    "Ans.'spam' + 'spamspam'and 'spam' * 3 both terms will give 'spamspamspam'."
   ]
  },
  {
   "cell_type": "raw",
   "id": "5906cf56",
   "metadata": {},
   "source": [
    "8. Why is eggs a valid variable name while 100 is invalid?"
   ]
  },
  {
   "cell_type": "raw",
   "id": "67258501",
   "metadata": {},
   "source": [
    "Ans. eggs is a valid variable name while 100 is in valid because variable only starts with alphabetical letters (a-z,A-Z) and underscore (_).Variable does not starts with  numercal value if we want to add numerical value to variable we should start with alphabetical charater first then add numerical value at the end.For example - eg100 , egg100 , e100."
   ]
  },
  {
   "cell_type": "raw",
   "id": "42cca0c0",
   "metadata": {},
   "source": [
    "9. What three functions can be used to get the integer, floating-point number, or string version of a value?"
   ]
  },
  {
   "cell_type": "raw",
   "id": "b0017503",
   "metadata": {},
   "source": [
    "Ans. int()   --- integer\n",
    "     float() --- float\n",
    "     str()   ---  string"
   ]
  },
  {
   "cell_type": "raw",
   "id": "fcd32489",
   "metadata": {},
   "source": [
    "10. Why does this expression cause an error? How can you fix it?\n",
    "'I have eaten ' + 99 + ' burritos.'"
   ]
  },
  {
   "cell_type": "raw",
   "id": "c3af2e50",
   "metadata": {},
   "source": [
    "Ans.Because 'I have eaten 'and ' burritos.' is in string format but 99 is an integer so we have to put it between the quotes to make it string '99'.then it will not give us error."
   ]
  },
  {
   "cell_type": "code",
   "execution_count": 24,
   "id": "4b1c2ac7",
   "metadata": {},
   "outputs": [
    {
     "data": {
      "text/plain": [
       "'I have eaten 99 burritos.'"
      ]
     },
     "execution_count": 24,
     "metadata": {},
     "output_type": "execute_result"
    }
   ],
   "source": [
    "'I have eaten ' + '99' + ' burritos.'"
   ]
  }
 ],
 "metadata": {
  "kernelspec": {
   "display_name": "Python 3 (ipykernel)",
   "language": "python",
   "name": "python3"
  },
  "language_info": {
   "codemirror_mode": {
    "name": "ipython",
    "version": 3
   },
   "file_extension": ".py",
   "mimetype": "text/x-python",
   "name": "python",
   "nbconvert_exporter": "python",
   "pygments_lexer": "ipython3",
   "version": "3.9.7"
  }
 },
 "nbformat": 4,
 "nbformat_minor": 5
}
