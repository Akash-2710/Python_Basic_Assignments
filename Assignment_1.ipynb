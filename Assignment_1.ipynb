{
 "cells": [
  {
   "cell_type": "code",
   "execution_count": 1,
   "id": "0bacdd21",
   "metadata": {},
   "outputs": [],
   "source": [
    "#1. In the below elements which of them are values or an expression?\n",
    "#eg:- values can be integer #or string and expressions will be mathematical operators.\n",
    "\n",
    "#  * \n",
    "#  'hello'\n",
    "#  -87.8\n",
    "#   - \n",
    "#   /  \n",
    "#   +\n",
    "#   6 "
   ]
  },
  {
   "cell_type": "code",
   "execution_count": 2,
   "id": "05409273",
   "metadata": {},
   "outputs": [],
   "source": [
    "#Ans. 'hello'    -87.8    6    are values.\n",
    "#     -  /   +    *   are expressions.   "
   ]
  },
  {
   "cell_type": "code",
   "execution_count": 3,
   "id": "4f25d022",
   "metadata": {},
   "outputs": [],
   "source": [
    "#2. What is the difference between string and variable?"
   ]
  },
  {
   "cell_type": "code",
   "execution_count": 4,
   "id": "fc8b94a5",
   "metadata": {},
   "outputs": [],
   "source": [
    "#Ans. String can be written in single quotes ,\n",
    "#double quotes and tripple quots.Example-#'Akash',\"Akash\",\"\"\"Akash\"\"\".\n",
    "#variable is used to store data that we can access by variable name.\n",
    "#Example - a =\"Akash\", i = #\"inueron\"."
   ]
  },
  {
   "cell_type": "code",
   "execution_count": 5,
   "id": "e1264e08",
   "metadata": {},
   "outputs": [],
   "source": [
    "#3. Describe three different data types."
   ]
  },
  {
   "cell_type": "code",
   "execution_count": 6,
   "id": "8e4acebc",
   "metadata": {},
   "outputs": [],
   "source": [
    "#Ans. string  - String can be written in quotes.Ex-a = 'Akash'\n",
    "#     boolean - It will give either true or false based on the #logic.Ex-10>5 true.\n",
    "#     integer  - Integer can only store numerical values.Ex-1,2."
   ]
  },
  {
   "cell_type": "code",
   "execution_count": 7,
   "id": "93c8fd89",
   "metadata": {},
   "outputs": [],
   "source": [
    "#4. What is an expression made up of? What do all expressions do?"
   ]
  },
  {
   "cell_type": "code",
   "execution_count": 8,
   "id": "9648cfdb",
   "metadata": {},
   "outputs": [],
   "source": [
    "#Ans.Epressiond are containers they are made up of values of combinstions of operands.\n",
    "#Ex- i #=27+10 \n",
    "#expression are used to specify information."
   ]
  },
  {
   "cell_type": "code",
   "execution_count": 9,
   "id": "7529a6d3",
   "metadata": {},
   "outputs": [],
   "source": [
    "#5. This assignment statements, like spam = 10.\n",
    "#What is the difference between an expression and a statement?"
   ]
  },
  {
   "cell_type": "code",
   "execution_count": 10,
   "id": "dd077f62",
   "metadata": {},
   "outputs": [],
   "source": [
    "#Ans.Epressiond are containers they are made up of values of combinstions of operands \n",
    "#and statement is a command that python interpreter executes."
   ]
  },
  {
   "cell_type": "code",
   "execution_count": 11,
   "id": "6ca8e357",
   "metadata": {},
   "outputs": [],
   "source": [
    "#6. After running the following code, what does the variable bacon contain?\n",
    "#bacon = 22\n",
    "#bacon + 1"
   ]
  },
  {
   "cell_type": "code",
   "execution_count": 12,
   "id": "38c62747",
   "metadata": {},
   "outputs": [
    {
     "data": {
      "text/plain": [
       "23"
      ]
     },
     "execution_count": 12,
     "metadata": {},
     "output_type": "execute_result"
    }
   ],
   "source": [
    "bacon = 22\n",
    "bacon + 1"
   ]
  },
  {
   "cell_type": "code",
   "execution_count": 13,
   "id": "f66797ff",
   "metadata": {},
   "outputs": [],
   "source": [
    "#Ans. After running the following code the execution code will be 23."
   ]
  },
  {
   "cell_type": "code",
   "execution_count": 14,
   "id": "3c388654",
   "metadata": {},
   "outputs": [],
   "source": [
    "#7. What should the values of the following two terms be?\n",
    "#'spam' + 'spamspam'\n",
    "#'spam' * 3"
   ]
  },
  {
   "cell_type": "code",
   "execution_count": 15,
   "id": "cf5d6ae4",
   "metadata": {},
   "outputs": [
    {
     "data": {
      "text/plain": [
       "'spamspamspam'"
      ]
     },
     "execution_count": 15,
     "metadata": {},
     "output_type": "execute_result"
    }
   ],
   "source": [
    "'spam' + 'spamspam'"
   ]
  },
  {
   "cell_type": "code",
   "execution_count": 16,
   "id": "31b7fec1",
   "metadata": {},
   "outputs": [
    {
     "data": {
      "text/plain": [
       "'spamspamspam'"
      ]
     },
     "execution_count": 16,
     "metadata": {},
     "output_type": "execute_result"
    }
   ],
   "source": [
    "'spam' * 3"
   ]
  },
  {
   "cell_type": "code",
   "execution_count": 17,
   "id": "bbe5d164",
   "metadata": {},
   "outputs": [],
   "source": [
    "#Ans.'spam' + 'spamspam'and 'spam' * 3 both terms will give 'spamspamspam'."
   ]
  },
  {
   "cell_type": "code",
   "execution_count": 18,
   "id": "a23c02f4",
   "metadata": {},
   "outputs": [],
   "source": [
    "#8. Why is eggs a valid variable name while 100 is invalid?"
   ]
  },
  {
   "cell_type": "code",
   "execution_count": 19,
   "id": "ee535a92",
   "metadata": {},
   "outputs": [],
   "source": [
    "#Ans. eggs is a valid variable name while 100 is in valid because variable only starts with\n",
    "#alphabetical letters (a-z,A-Z) and underscore (_).Variable does not starts with  numercal value \n",
    "#if we want to add numerical value to variable we should start with alphabetical charater first \n",
    "#then add numerical value at the end.For example - eg100 , egg100 , e100."
   ]
  },
  {
   "cell_type": "code",
   "execution_count": 20,
   "id": "1829745c",
   "metadata": {},
   "outputs": [],
   "source": [
    "#9. What three functions can be used to get the integer,\n",
    "#floating-point number, or string version #of a value?"
   ]
  },
  {
   "cell_type": "code",
   "execution_count": 21,
   "id": "88b9f869",
   "metadata": {},
   "outputs": [],
   "source": [
    "#Ans. int()   --- integer\n",
    "#     float() --- float\n",
    "#     str()   ---  string"
   ]
  },
  {
   "cell_type": "code",
   "execution_count": 22,
   "id": "3f00bbc9",
   "metadata": {},
   "outputs": [],
   "source": [
    "#10. Why does this expression cause an error? How can you fix it?\n",
    "#'I have eaten ' + 99 + ' burritos.'"
   ]
  },
  {
   "cell_type": "code",
   "execution_count": 23,
   "id": "1f9d715d",
   "metadata": {},
   "outputs": [],
   "source": [
    "#Ans.Because 'I have eaten 'and ' burritos.' \n",
    "#is in string format but 99 is an integer so we have \n",
    "#to put it between the quotes to make it string '99'.then it will not give us error."
   ]
  },
  {
   "cell_type": "code",
   "execution_count": 24,
   "id": "32d9894f",
   "metadata": {},
   "outputs": [
    {
     "data": {
      "text/plain": [
       "'I have eaten 99 burritos.'"
      ]
     },
     "execution_count": 24,
     "metadata": {},
     "output_type": "execute_result"
    }
   ],
   "source": [
    "'I have eaten ' + '99' + ' burritos.'"
   ]
  },
  {
   "cell_type": "code",
   "execution_count": null,
   "id": "1ba37699",
   "metadata": {},
   "outputs": [],
   "source": []
  },
  {
   "cell_type": "code",
   "execution_count": null,
   "id": "c9135b24",
   "metadata": {},
   "outputs": [],
   "source": []
  },
  {
   "cell_type": "code",
   "execution_count": null,
   "id": "98e23d41",
   "metadata": {},
   "outputs": [],
   "source": []
  },
  {
   "cell_type": "code",
   "execution_count": null,
   "id": "1ef07600",
   "metadata": {},
   "outputs": [],
   "source": []
  }
 ],
 "metadata": {
  "kernelspec": {
   "display_name": "Python 3 (ipykernel)",
   "language": "python",
   "name": "python3"
  },
  "language_info": {
   "codemirror_mode": {
    "name": "ipython",
    "version": 3
   },
   "file_extension": ".py",
   "mimetype": "text/x-python",
   "name": "python",
   "nbconvert_exporter": "python",
   "pygments_lexer": "ipython3",
   "version": "3.9.7"
  }
 },
 "nbformat": 4,
 "nbformat_minor": 5
}
