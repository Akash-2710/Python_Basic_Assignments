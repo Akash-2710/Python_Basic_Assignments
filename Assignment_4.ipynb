{
 "cells": [
  {
   "cell_type": "code",
   "execution_count": null,
   "id": "e2316f56",
   "metadata": {},
   "outputs": [],
   "source": [
    "#1. What exactly is []?"
   ]
  },
  {
   "cell_type": "code",
   "execution_count": null,
   "id": "6e763476",
   "metadata": {},
   "outputs": [],
   "source": [
    "#Ans.[] is a square brackets it is used to create a list."
   ]
  },
  {
   "cell_type": "code",
   "execution_count": null,
   "id": "3ac85a34",
   "metadata": {},
   "outputs": [],
   "source": [
    "#2. In a list of values stored in a variable called spam,\n",
    "#how would you assign the value 'hello' as the third value? (Assume [2, 4, 6, 8, 10] are in spam.)"
   ]
  },
  {
   "cell_type": "code",
   "execution_count": 7,
   "id": "ab2025e8",
   "metadata": {},
   "outputs": [
    {
     "data": {
      "text/plain": [
       "'hello'"
      ]
     },
     "execution_count": 7,
     "metadata": {},
     "output_type": "execute_result"
    }
   ],
   "source": [
    "#Ans.\n",
    "spam = [2, 4, 6, 8, 10]\n",
    "spam[3] = 'hello'\n",
    "spam[3]"
   ]
  },
  {
   "cell_type": "code",
   "execution_count": null,
   "id": "e86c8dc0",
   "metadata": {},
   "outputs": [],
   "source": [
    "# Let's pretend the spam includes the list ['a', 'b', 'c', 'd'] for the next three queries.\n",
    "#3. What is the value of spam[int(int('3' * 2) / 11)]?"
   ]
  },
  {
   "cell_type": "code",
   "execution_count": null,
   "id": "173f08cd",
   "metadata": {},
   "outputs": [],
   "source": [
    "#Ans. After running the given code the execution code will be 'd'."
   ]
  },
  {
   "cell_type": "code",
   "execution_count": null,
   "id": "53c30759",
   "metadata": {},
   "outputs": [],
   "source": [
    "# spam = ['a', 'b', 'c', 'd']\n",
    "spam[int(int('3' * 2) / 11)]"
   ]
  },
  {
   "cell_type": "code",
   "execution_count": null,
   "id": "4ee76f6c",
   "metadata": {},
   "outputs": [],
   "source": [
    "#4. What is the value of spam[-1]?"
   ]
  },
  {
   "cell_type": "code",
   "execution_count": 10,
   "id": "90df527a",
   "metadata": {},
   "outputs": [
    {
     "data": {
      "text/plain": [
       "'d'"
      ]
     },
     "execution_count": 10,
     "metadata": {},
     "output_type": "execute_result"
    }
   ],
   "source": [
    "#Ans.The value of spam[-1] will be 'd'.\n",
    " spam[-1]"
   ]
  },
  {
   "cell_type": "code",
   "execution_count": null,
   "id": "d42b5a89",
   "metadata": {},
   "outputs": [],
   "source": [
    "#5. What is the value of spam[:2]?"
   ]
  },
  {
   "cell_type": "code",
   "execution_count": 20,
   "id": "1f765e19",
   "metadata": {},
   "outputs": [
    {
     "data": {
      "text/plain": [
       "['a', 'b']"
      ]
     },
     "execution_count": 20,
     "metadata": {},
     "output_type": "execute_result"
    }
   ],
   "source": [
    "#Ans.The value of the given code will be ['a', 'b'].\n",
    "spam[:2]"
   ]
  },
  {
   "cell_type": "code",
   "execution_count": null,
   "id": "3a38e38b",
   "metadata": {},
   "outputs": [],
   "source": [
    "#Let's pretend bacon has the list [3.14, 'cat,' 11, 'cat,' True] for the next three questions.\n",
    "#6. What is the value of bacon.index('cat')?"
   ]
  },
  {
   "cell_type": "code",
   "execution_count": 31,
   "id": "9752d038",
   "metadata": {},
   "outputs": [
    {
     "data": {
      "text/plain": [
       "1"
      ]
     },
     "execution_count": 31,
     "metadata": {},
     "output_type": "execute_result"
    }
   ],
   "source": [
    "#Ans. the value of bacon.index('cat') will be 1.\n",
    "bacon = [3.14, 'cat', 11, 'cat', True]\n",
    "bacon.index('cat')"
   ]
  },
  {
   "cell_type": "code",
   "execution_count": 32,
   "id": "7bc9b85f",
   "metadata": {},
   "outputs": [],
   "source": [
    "#7. How does bacon.append(99) change the look of the list value in bacon?"
   ]
  },
  {
   "cell_type": "code",
   "execution_count": 33,
   "id": "1e600d50",
   "metadata": {},
   "outputs": [
    {
     "data": {
      "text/plain": [
       "[3.14, 'cat', 11, 'cat', True, 99]"
      ]
     },
     "execution_count": 33,
     "metadata": {},
     "output_type": "execute_result"
    }
   ],
   "source": [
    "#Ans. append() is used to add a single item or obeject in the list.Hence in the given list it will add 99.\n",
    "bacon.append(99)\n",
    "bacon"
   ]
  },
  {
   "cell_type": "code",
   "execution_count": 34,
   "id": "86a54495",
   "metadata": {},
   "outputs": [],
   "source": [
    "#8. How does bacon.remove('cat') change the look of the list in bacon?"
   ]
  },
  {
   "cell_type": "code",
   "execution_count": 36,
   "id": "9511eba4",
   "metadata": {},
   "outputs": [
    {
     "data": {
      "text/plain": [
       "[3.14, 11, True, 99]"
      ]
     },
     "execution_count": 36,
     "metadata": {},
     "output_type": "execute_result"
    }
   ],
   "source": [
    "#Ans. remove() is used to remove a single item or obeject in the list.Hence in the given list it will remove 'cat'.\n",
    "bacon.remove('cat')\n",
    "bacon"
   ]
  },
  {
   "cell_type": "code",
   "execution_count": null,
   "id": "8fcdacc6",
   "metadata": {},
   "outputs": [],
   "source": [
    "#9. What are the list concatenation and list replication operators?"
   ]
  },
  {
   "cell_type": "code",
   "execution_count": null,
   "id": "fa5df0b4",
   "metadata": {},
   "outputs": [],
   "source": [
    "#Ans. the list concatenation and list replication operators are + and * respectively."
   ]
  },
  {
   "cell_type": "code",
   "execution_count": null,
   "id": "5d5c8f30",
   "metadata": {},
   "outputs": [],
   "source": [
    "#10. What is difference between the list methods append() and insert()?"
   ]
  },
  {
   "cell_type": "code",
   "execution_count": null,
   "id": "6a4a3514",
   "metadata": {},
   "outputs": [],
   "source": [
    "#Ans. append is used to add a single item or obeject in the list and \n",
    "#if you try to add more than one it will give you error.\n",
    "#while insert is used to add one item or arguments in the list to a specific position\n",
    "#For Example:"
   ]
  },
  {
   "cell_type": "code",
   "execution_count": 62,
   "id": "16a5baca",
   "metadata": {},
   "outputs": [
    {
     "name": "stdout",
     "output_type": "stream",
     "text": [
      "[1, 2, 3, 4, 5]\n"
     ]
    }
   ],
   "source": [
    "a = [1,2,3,4]\n",
    "a.append(5)\n",
    "print(a)"
   ]
  },
  {
   "cell_type": "code",
   "execution_count": 63,
   "id": "a9d2e63e",
   "metadata": {},
   "outputs": [
    {
     "name": "stdout",
     "output_type": "stream",
     "text": [
      "[1, 2, 7, 3, 4, 5]\n"
     ]
    }
   ],
   "source": [
    "a.insert(-3,7)\n",
    "print(a)"
   ]
  },
  {
   "cell_type": "code",
   "execution_count": null,
   "id": "a33b9c0a",
   "metadata": {},
   "outputs": [],
   "source": [
    "#11. What are the two methods for removing items from a list?"
   ]
  },
  {
   "cell_type": "code",
   "execution_count": null,
   "id": "2aee0e1d",
   "metadata": {},
   "outputs": [],
   "source": [
    "#Ans. The two methods for removing items from a list are  remove() and clear()."
   ]
  },
  {
   "cell_type": "code",
   "execution_count": null,
   "id": "4a99ff4e",
   "metadata": {},
   "outputs": [],
   "source": [
    "#12. Describe how list values and string values are identical."
   ]
  },
  {
   "cell_type": "code",
   "execution_count": null,
   "id": "0e4d570b",
   "metadata": {},
   "outputs": [],
   "source": [
    "#Ans.list values and string values both are sequences.  "
   ]
  },
  {
   "cell_type": "code",
   "execution_count": null,
   "id": "653e6520",
   "metadata": {},
   "outputs": [],
   "source": [
    "#13. What's the difference between tuples and lists?"
   ]
  },
  {
   "cell_type": "code",
   "execution_count": null,
   "id": "25c51b39",
   "metadata": {},
   "outputs": [],
   "source": [
    "#Ans. Main difference between tuples and lists are that tuples are immutable means it cannot be changed\n",
    "#while lists are mutable and it can be changed or modified.\n",
    "#tuples are data efficient because imutability creates less data usage \n",
    "#while lists are not because of ability to be modified \n",
    "#python have to keep extra memory which will have to be required for the data. "
   ]
  },
  {
   "cell_type": "code",
   "execution_count": null,
   "id": "ee48a11f",
   "metadata": {},
   "outputs": [],
   "source": [
    "#14. How do you type a tuple value that only contains the integer 42?"
   ]
  },
  {
   "cell_type": "code",
   "execution_count": 76,
   "id": "c60c30bb",
   "metadata": {},
   "outputs": [
    {
     "data": {
      "text/plain": [
       "tuple"
      ]
     },
     "execution_count": 76,
     "metadata": {},
     "output_type": "execute_result"
    }
   ],
   "source": [
    "#Ans.tuple contain more than one element thats why we have attack a coma to the integer otherwise it won't work.\n",
    "a = (42,)\n",
    "type(a)"
   ]
  },
  {
   "cell_type": "code",
   "execution_count": null,
   "id": "ae5594cc",
   "metadata": {},
   "outputs": [],
   "source": [
    "#15. How do you get a list value's tuple form? How do you get a tuple value's list form?"
   ]
  },
  {
   "cell_type": "code",
   "execution_count": null,
   "id": "bd9d23b3",
   "metadata": {},
   "outputs": [],
   "source": [
    "#Ans. We will get a list values tuple form by adding list which contain object that can be modied \n",
    "#but the list inself cannot be modief because whole list count as a object of tuple.\n",
    "#Example:"
   ]
  },
  {
   "cell_type": "code",
   "execution_count": 118,
   "id": "6462a09a",
   "metadata": {},
   "outputs": [
    {
     "data": {
      "text/plain": [
       "'in'"
      ]
     },
     "execution_count": 118,
     "metadata": {},
     "output_type": "execute_result"
    }
   ],
   "source": [
    "b = (['ak',32,1.5],['in',0.2,55],[4.4,550,-66])\n",
    "b[1][0]"
   ]
  },
  {
   "cell_type": "code",
   "execution_count": 120,
   "id": "a7a2b4b4",
   "metadata": {},
   "outputs": [
    {
     "data": {
      "text/plain": [
       "'ak'"
      ]
     },
     "execution_count": 120,
     "metadata": {},
     "output_type": "execute_result"
    }
   ],
   "source": [
    "b[1][0] = 'ak'\n",
    "b[1][0]      #here list object is modified."
   ]
  },
  {
   "cell_type": "code",
   "execution_count": null,
   "id": "9e4a2b1b",
   "metadata": {},
   "outputs": [],
   "source": [
    "#We will get a tuple values list form by adding tuples which contain object that can not be modified\n",
    "#because tuples can't be modified.\n",
    "#but the list inself can be modief.\n",
    "#Example:"
   ]
  },
  {
   "cell_type": "code",
   "execution_count": 112,
   "id": "61fc0fbb",
   "metadata": {},
   "outputs": [
    {
     "data": {
      "text/plain": [
       "8"
      ]
     },
     "execution_count": 112,
     "metadata": {},
     "output_type": "execute_result"
    }
   ],
   "source": [
    "c = [(1,2,3),(4,5,6),(7,8,9)]\n",
    "c[2][1] "
   ]
  },
  {
   "cell_type": "code",
   "execution_count": 127,
   "id": "3790cfab",
   "metadata": {},
   "outputs": [
    {
     "data": {
      "text/plain": [
       "'a'"
      ]
     },
     "execution_count": 127,
     "metadata": {},
     "output_type": "execute_result"
    }
   ],
   "source": [
    "c[1] = 'a'\n",
    "c[1]       #Here list whole object can be modified but the tuples values can not be modified."
   ]
  },
  {
   "cell_type": "code",
   "execution_count": 126,
   "id": "cf424a38",
   "metadata": {},
   "outputs": [],
   "source": [
    "#16. Variables that \"contain\" list values are not necessarily lists themselves. Instead, what do they contain?"
   ]
  },
  {
   "cell_type": "code",
   "execution_count": 158,
   "id": "46df38c8",
   "metadata": {},
   "outputs": [],
   "source": [
    "#Ans.Variable that contain list values are not list themselves.Variables are reference of the lists."
   ]
  },
  {
   "cell_type": "code",
   "execution_count": null,
   "id": "3d365a11",
   "metadata": {},
   "outputs": [],
   "source": [
    "#17. How do you distinguish between copy.copy() and copy.deepcopy()?"
   ]
  },
  {
   "cell_type": "code",
   "execution_count": null,
   "id": "195f2f6b",
   "metadata": {},
   "outputs": [],
   "source": [
    "#Ans. copy.copy() is known as shallow copy and copy.deepcopy() is known as deepcopy.\n",
    "#A shallow copy creates a new compound object and then inserts references into it to the objects found in the orignal.\n",
    "# A deep copy creates a new compund object and then,recursively, inserts copies into the objects found in the orignal. "
   ]
  },
  {
   "cell_type": "code",
   "execution_count": null,
   "id": "8c609a9b",
   "metadata": {},
   "outputs": [],
   "source": []
  }
 ],
 "metadata": {
  "kernelspec": {
   "display_name": "Python 3 (ipykernel)",
   "language": "python",
   "name": "python3"
  },
  "language_info": {
   "codemirror_mode": {
    "name": "ipython",
    "version": 3
   },
   "file_extension": ".py",
   "mimetype": "text/x-python",
   "name": "python",
   "nbconvert_exporter": "python",
   "pygments_lexer": "ipython3",
   "version": "3.9.7"
  }
 },
 "nbformat": 4,
 "nbformat_minor": 5
}
